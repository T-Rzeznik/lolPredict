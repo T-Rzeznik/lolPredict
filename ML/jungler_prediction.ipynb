{
 "cells": [
  {
   "cell_type": "code",
   "execution_count": 227,
   "metadata": {},
   "outputs": [],
   "source": [
    "import pandas as pd\n",
    "\n",
    "df = pd.read_csv('../jungler_data.csv')"
   ]
  },
  {
   "cell_type": "markdown",
   "metadata": {},
   "source": [
    "1. Data Exploration"
   ]
  },
  {
   "cell_type": "code",
   "execution_count": 228,
   "metadata": {},
   "outputs": [
    {
     "data": {
      "text/plain": [
       "(3053, 13)"
      ]
     },
     "execution_count": 228,
     "metadata": {},
     "output_type": "execute_result"
    }
   ],
   "source": [
    "df.shape"
   ]
  },
  {
   "cell_type": "code",
   "execution_count": 229,
   "metadata": {},
   "outputs": [
    {
     "data": {
      "text/plain": [
       "Index(['kills_first_4_min', 'assists_first_4_min', 'camps_cleared_first_4_min',\n",
       "       'gold_earned_first_4_min', 'win', 'kills_details', 'summoner_spells',\n",
       "       'champion', 'first_item', 'level_at_first_blood', 'firstBlood',\n",
       "       'gold_per_minute', 'game_type'],\n",
       "      dtype='object')"
      ]
     },
     "execution_count": 229,
     "metadata": {},
     "output_type": "execute_result"
    }
   ],
   "source": [
    "df.columns"
   ]
  },
  {
   "cell_type": "code",
   "execution_count": 230,
   "metadata": {},
   "outputs": [
    {
     "data": {
      "text/plain": [
       "<bound method NDFrame.head of       kills_first_4_min  assists_first_4_min  camps_cleared_first_4_min  \\\n",
       "0                     0                    0                         28   \n",
       "1                     0                    0                         24   \n",
       "2                     0                    0                         28   \n",
       "3                     0                    0                         28   \n",
       "4                     1                    0                         24   \n",
       "...                 ...                  ...                        ...   \n",
       "3048                  1                    0                         19   \n",
       "3049                  1                    0                         20   \n",
       "3050                  1                    0                         16   \n",
       "3051                  0                    0                         12   \n",
       "3052                  1                    0                         24   \n",
       "\n",
       "      gold_earned_first_4_min    win kills_details summoner_spells champion  \\\n",
       "0                        1375   True            []         (11, 4)  Shyvana   \n",
       "1                        1315  False            []         (11, 4)    Viego   \n",
       "2                        1395   True            []         (4, 11)     Kayn   \n",
       "3                        1395  False            []         (11, 4)  Morgana   \n",
       "4                        1635   True      [226988]         (11, 4)     Kayn   \n",
       "...                       ...    ...           ...             ...      ...   \n",
       "3048                     1639   True       [53941]         (4, 11)   Rengar   \n",
       "3049                     1525   True      [229957]         (11, 4)  Evelynn   \n",
       "3050                     1620  False      [194365]         (4, 11)  Belveth   \n",
       "3051                     1086  False            []         (4, 11)   Khazix   \n",
       "3052                     1617   True      [189455]         (11, 4)   Lillia   \n",
       "\n",
       "     first_item  level_at_first_blood  firstBlood  gold_per_minute  \\\n",
       "0       No Item                     3       False           343.75   \n",
       "1          Blue                     3       False           328.75   \n",
       "2           Red                     3       False           348.75   \n",
       "3       No Item                     3       False           348.75   \n",
       "4           Red                     4       False           408.75   \n",
       "...         ...                   ...         ...              ...   \n",
       "3048        Red                     1        True           409.75   \n",
       "3049    No Item                     3       False           381.25   \n",
       "3050        Red                     3        True           405.00   \n",
       "3051       Blue                     3       False           271.50   \n",
       "3052       Blue                     3       False           404.25   \n",
       "\n",
       "            game_type  \n",
       "0     Ranked Solo/Duo  \n",
       "1     Ranked Solo/Duo  \n",
       "2         Ranked Flex  \n",
       "3         Ranked Flex  \n",
       "4     Ranked Solo/Duo  \n",
       "...               ...  \n",
       "3048  Ranked Solo/Duo  \n",
       "3049  Ranked Solo/Duo  \n",
       "3050  Ranked Solo/Duo  \n",
       "3051  Ranked Solo/Duo  \n",
       "3052  Ranked Solo/Duo  \n",
       "\n",
       "[3053 rows x 13 columns]>"
      ]
     },
     "execution_count": 230,
     "metadata": {},
     "output_type": "execute_result"
    }
   ],
   "source": [
    "df.head"
   ]
  },
  {
   "cell_type": "code",
   "execution_count": 231,
   "metadata": {},
   "outputs": [
    {
     "data": {
      "text/plain": [
       "kills_first_4_min              int64\n",
       "assists_first_4_min            int64\n",
       "camps_cleared_first_4_min      int64\n",
       "gold_earned_first_4_min        int64\n",
       "win                             bool\n",
       "kills_details                 object\n",
       "summoner_spells               object\n",
       "champion                      object\n",
       "first_item                    object\n",
       "level_at_first_blood           int64\n",
       "firstBlood                      bool\n",
       "gold_per_minute              float64\n",
       "game_type                     object\n",
       "dtype: object"
      ]
     },
     "execution_count": 231,
     "metadata": {},
     "output_type": "execute_result"
    }
   ],
   "source": [
    "df.dtypes"
   ]
  },
  {
   "cell_type": "markdown",
   "metadata": {},
   "source": [
    "2. Data manipulation\n",
    "\n",
    "We only care about Ranked Solo/Duo games, since these games are more competative than other game types"
   ]
  },
  {
   "cell_type": "code",
   "execution_count": 232,
   "metadata": {},
   "outputs": [],
   "source": [
    "ranked_only_df = df[df['game_type'] == 'Ranked Solo/Duo']"
   ]
  },
  {
   "cell_type": "code",
   "execution_count": 233,
   "metadata": {},
   "outputs": [
    {
     "data": {
      "text/plain": [
       "<bound method NDFrame.head of       kills_first_4_min  assists_first_4_min  camps_cleared_first_4_min  \\\n",
       "0                     0                    0                         28   \n",
       "1                     0                    0                         24   \n",
       "4                     1                    0                         24   \n",
       "5                     1                    0                         20   \n",
       "6                     0                    0                         16   \n",
       "...                 ...                  ...                        ...   \n",
       "3048                  1                    0                         19   \n",
       "3049                  1                    0                         20   \n",
       "3050                  1                    0                         16   \n",
       "3051                  0                    0                         12   \n",
       "3052                  1                    0                         24   \n",
       "\n",
       "      gold_earned_first_4_min    win kills_details summoner_spells  champion  \\\n",
       "0                        1375   True            []         (11, 4)   Shyvana   \n",
       "1                        1315  False            []         (11, 4)     Viego   \n",
       "4                        1635   True      [226988]         (11, 4)      Kayn   \n",
       "5                        1566  False      [198266]         (4, 11)  Nocturne   \n",
       "6                        1145   True            []         (11, 4)     Amumu   \n",
       "...                       ...    ...           ...             ...       ...   \n",
       "3048                     1639   True       [53941]         (4, 11)    Rengar   \n",
       "3049                     1525   True      [229957]         (11, 4)   Evelynn   \n",
       "3050                     1620  False      [194365]         (4, 11)   Belveth   \n",
       "3051                     1086  False            []         (4, 11)    Khazix   \n",
       "3052                     1617   True      [189455]         (11, 4)    Lillia   \n",
       "\n",
       "     first_item  level_at_first_blood  firstBlood  gold_per_minute  \\\n",
       "0       No Item                     3       False           343.75   \n",
       "1          Blue                     3       False           328.75   \n",
       "4           Red                     4       False           408.75   \n",
       "5           Red                     3       False           391.50   \n",
       "6         Green                     3       False           286.25   \n",
       "...         ...                   ...         ...              ...   \n",
       "3048        Red                     1        True           409.75   \n",
       "3049    No Item                     3       False           381.25   \n",
       "3050        Red                     3        True           405.00   \n",
       "3051       Blue                     3       False           271.50   \n",
       "3052       Blue                     3       False           404.25   \n",
       "\n",
       "            game_type  \n",
       "0     Ranked Solo/Duo  \n",
       "1     Ranked Solo/Duo  \n",
       "4     Ranked Solo/Duo  \n",
       "5     Ranked Solo/Duo  \n",
       "6     Ranked Solo/Duo  \n",
       "...               ...  \n",
       "3048  Ranked Solo/Duo  \n",
       "3049  Ranked Solo/Duo  \n",
       "3050  Ranked Solo/Duo  \n",
       "3051  Ranked Solo/Duo  \n",
       "3052  Ranked Solo/Duo  \n",
       "\n",
       "[2190 rows x 13 columns]>"
      ]
     },
     "execution_count": 233,
     "metadata": {},
     "output_type": "execute_result"
    }
   ],
   "source": [
    "ranked_only_df.head"
   ]
  },
  {
   "cell_type": "code",
   "execution_count": 234,
   "metadata": {},
   "outputs": [
    {
     "data": {
      "text/plain": [
       "(2190, 13)"
      ]
     },
     "execution_count": 234,
     "metadata": {},
     "output_type": "execute_result"
    }
   ],
   "source": [
    "ranked_only_df.shape"
   ]
  },
  {
   "cell_type": "markdown",
   "metadata": {},
   "source": [
    "We still have 2190 Games to use, thats Great!\n",
    "Lets check for duplicates"
   ]
  },
  {
   "cell_type": "code",
   "execution_count": 235,
   "metadata": {},
   "outputs": [
    {
     "name": "stdout",
     "output_type": "stream",
     "text": [
      "      kills_first_4_min  assists_first_4_min  camps_cleared_first_4_min  \\\n",
      "180                   0                    0                         28   \n",
      "305                   0                    0                         28   \n",
      "307                   0                    0                         28   \n",
      "314                   0                    0                         28   \n",
      "356                   0                    0                         28   \n",
      "...                 ...                  ...                        ...   \n",
      "2878                  0                    0                         28   \n",
      "2940                  0                    0                         28   \n",
      "2957                  0                    0                         28   \n",
      "3015                  0                    0                         28   \n",
      "3036                  0                    0                         28   \n",
      "\n",
      "      gold_earned_first_4_min    win kills_details summoner_spells  champion  \\\n",
      "180                      1395  False            []         (4, 11)   Shyvana   \n",
      "305                      1395   True            []         (6, 11)   Hecarim   \n",
      "307                      1395  False            []         (4, 11)     Amumu   \n",
      "314                      1395  False            []         (11, 4)   Shyvana   \n",
      "356                      1395   True            []         (4, 11)   Shyvana   \n",
      "...                       ...    ...           ...             ...       ...   \n",
      "2878                     1395  False            []         (11, 4)  Nocturne   \n",
      "2940                     1395  False            []         (11, 4)   Taliyah   \n",
      "2957                     1395   True            []         (11, 4)    Khazix   \n",
      "3015                     1395   True            []         (11, 6)   Hecarim   \n",
      "3036                     1395   True            []         (4, 11)  Nocturne   \n",
      "\n",
      "     first_item  level_at_first_blood  firstBlood  gold_per_minute  \\\n",
      "180         Red                     4       False           348.75   \n",
      "305        Blue                     4       False           348.75   \n",
      "307       Green                     4       False           348.75   \n",
      "314         Red                     3       False           348.75   \n",
      "356         Red                     3       False           348.75   \n",
      "...         ...                   ...         ...              ...   \n",
      "2878        Red                     3       False           348.75   \n",
      "2940        Red                     4       False           348.75   \n",
      "2957       Blue                     4       False           348.75   \n",
      "3015       Blue                     4       False           348.75   \n",
      "3036        Red                     4       False           348.75   \n",
      "\n",
      "            game_type  \n",
      "180   Ranked Solo/Duo  \n",
      "305   Ranked Solo/Duo  \n",
      "307   Ranked Solo/Duo  \n",
      "314   Ranked Solo/Duo  \n",
      "356   Ranked Solo/Duo  \n",
      "...               ...  \n",
      "2878  Ranked Solo/Duo  \n",
      "2940  Ranked Solo/Duo  \n",
      "2957  Ranked Solo/Duo  \n",
      "3015  Ranked Solo/Duo  \n",
      "3036  Ranked Solo/Duo  \n",
      "\n",
      "[380 rows x 13 columns]\n"
     ]
    }
   ],
   "source": [
    "duplicates = ranked_only_df[ranked_only_df.duplicated()]\n",
    "print(duplicates)"
   ]
  },
  {
   "cell_type": "markdown",
   "metadata": {},
   "source": [
    "380 Duplicates!!! Looks like our script had some overlap in the matches we recorded.\n",
    "\n",
    "Lets Drop these entries"
   ]
  },
  {
   "cell_type": "code",
   "execution_count": 236,
   "metadata": {},
   "outputs": [],
   "source": [
    "clean_df = ranked_only_df.drop_duplicates()"
   ]
  },
  {
   "cell_type": "code",
   "execution_count": 237,
   "metadata": {},
   "outputs": [
    {
     "name": "stdout",
     "output_type": "stream",
     "text": [
      "380\n"
     ]
    }
   ],
   "source": [
    "#Error Checking\n",
    "print(len(ranked_only_df) - len(clean_df))"
   ]
  },
  {
   "cell_type": "markdown",
   "metadata": {},
   "source": [
    "Our summoner_spells column can use some cleaning, since all entries have 11 in it, that is a constant, we only care about the summoner_spell that is not 11"
   ]
  },
  {
   "cell_type": "code",
   "execution_count": 238,
   "metadata": {},
   "outputs": [],
   "source": [
    "def extract_spell(spell_str):\n",
    "    spell_str = spell_str.strip('()')\n",
    "    spell_list = spell_str.split(',')\n",
    "    return int(spell_list[1]) if int(spell_list[0]) == 11 else int(spell_list[0])\n",
    "\n",
    "reformatted_df  =  clean_df.copy()"
   ]
  },
  {
   "cell_type": "code",
   "execution_count": 239,
   "metadata": {},
   "outputs": [],
   "source": [
    "# Apply the function to the Summoner_spells column\n",
    "reformatted_df['secondary_summoner_spell'] = reformatted_df['summoner_spells'].apply(extract_spell)\n",
    "\n",
    "# Drop the old column\n",
    "reformatted_df.drop(columns=['summoner_spells'], inplace=True)"
   ]
  },
  {
   "cell_type": "code",
   "execution_count": 240,
   "metadata": {},
   "outputs": [
    {
     "data": {
      "text/plain": [
       "0       4\n",
       "1       4\n",
       "4       4\n",
       "5       4\n",
       "6       4\n",
       "       ..\n",
       "3048    4\n",
       "3049    4\n",
       "3050    4\n",
       "3051    4\n",
       "3052    4\n",
       "Name: secondary_summoner_spell, Length: 1810, dtype: int64"
      ]
     },
     "execution_count": 240,
     "metadata": {},
     "output_type": "execute_result"
    }
   ],
   "source": [
    "reformatted_df['secondary_summoner_spell']"
   ]
  },
  {
   "cell_type": "code",
   "execution_count": 241,
   "metadata": {},
   "outputs": [
    {
     "name": "stdout",
     "output_type": "stream",
     "text": [
      "kills_first_4_min            0\n",
      "assists_first_4_min          0\n",
      "camps_cleared_first_4_min    0\n",
      "gold_earned_first_4_min      0\n",
      "win                          0\n",
      "kills_details                0\n",
      "champion                     0\n",
      "first_item                   0\n",
      "level_at_first_blood         0\n",
      "firstBlood                   0\n",
      "gold_per_minute              0\n",
      "game_type                    0\n",
      "secondary_summoner_spell     0\n",
      "dtype: int64\n"
     ]
    }
   ],
   "source": [
    "missing_values = reformatted_df.isnull().sum()\n",
    "print(missing_values)"
   ]
  },
  {
   "cell_type": "code",
   "execution_count": 242,
   "metadata": {},
   "outputs": [],
   "source": [
    "#Drop game_type column since they are all the same now\n",
    "reformatted_df = reformatted_df.drop(columns='game_type')"
   ]
  },
  {
   "cell_type": "markdown",
   "metadata": {},
   "source": [
    "Since I would Like to use a nueral network we have to encode some of our columns"
   ]
  },
  {
   "cell_type": "code",
   "execution_count": 243,
   "metadata": {},
   "outputs": [
    {
     "data": {
      "text/plain": [
       "kills_first_4_min              int64\n",
       "assists_first_4_min            int64\n",
       "camps_cleared_first_4_min      int64\n",
       "gold_earned_first_4_min        int64\n",
       "win                             bool\n",
       "kills_details                 object\n",
       "champion                      object\n",
       "first_item                    object\n",
       "level_at_first_blood           int64\n",
       "firstBlood                      bool\n",
       "gold_per_minute              float64\n",
       "secondary_summoner_spell       int64\n",
       "dtype: object"
      ]
     },
     "execution_count": 243,
     "metadata": {},
     "output_type": "execute_result"
    }
   ],
   "source": [
    "reformatted_df.dtypes"
   ]
  },
  {
   "cell_type": "code",
   "execution_count": 244,
   "metadata": {},
   "outputs": [
    {
     "name": "stdout",
     "output_type": "stream",
     "text": [
      "  first_item  first_item_encoded  champion  champion_encoded\n",
      "0    No Item                   2   Shyvana                55\n",
      "1       Blue                   0     Viego                68\n",
      "4        Red                   3      Kayn                23\n",
      "5        Red                   3  Nocturne                42\n",
      "6      Green                   1     Amumu                 0\n"
     ]
    }
   ],
   "source": [
    "from sklearn.preprocessing import LabelEncoder\n",
    "\n",
    "le_first_item = LabelEncoder()\n",
    "le_champion = LabelEncoder()\n",
    "\n",
    "reformatted_df['first_item_encoded'] = le_first_item.fit_transform(reformatted_df['first_item'])\n",
    "reformatted_df['champion_encoded'] = le_champion.fit_transform(reformatted_df['champion'])\n",
    "\n",
    "print(reformatted_df[['first_item', 'first_item_encoded', 'champion', 'champion_encoded']].head())\n",
    "\n"
   ]
  },
  {
   "cell_type": "code",
   "execution_count": 245,
   "metadata": {},
   "outputs": [
    {
     "name": "stdout",
     "output_type": "stream",
     "text": [
      "0       55\n",
      "1       68\n",
      "4       23\n",
      "5       42\n",
      "6        0\n",
      "        ..\n",
      "3048    50\n",
      "3049    12\n",
      "3050     3\n",
      "3051    25\n",
      "3052    30\n",
      "Name: champion_encoded, Length: 1810, dtype: int32\n"
     ]
    }
   ],
   "source": [
    "print(reformatted_df['champion_encoded'])"
   ]
  },
  {
   "cell_type": "code",
   "execution_count": 246,
   "metadata": {},
   "outputs": [],
   "source": [
    "reformatted_df = reformatted_df.drop(columns=['first_item', 'champion'])"
   ]
  },
  {
   "cell_type": "code",
   "execution_count": 249,
   "metadata": {},
   "outputs": [],
   "source": [
    "#Change kill details to first_kill_time, which records the timestamp of the junglers first kill of the game\n",
    "reformatted_df['first_kill_time'] = reformatted_df['kills_details'].apply(lambda x: int(eval(x)[0]) if eval(x) else 0)\n",
    "reformatted_df = reformatted_df.drop(columns=['kills_details'])\n"
   ]
  },
  {
   "cell_type": "code",
   "execution_count": 254,
   "metadata": {},
   "outputs": [
    {
     "data": {
      "text/plain": [
       "kills_first_4_min              int64\n",
       "assists_first_4_min            int64\n",
       "camps_cleared_first_4_min      int64\n",
       "gold_earned_first_4_min        int64\n",
       "win                             bool\n",
       "level_at_first_blood           int64\n",
       "firstBlood                      bool\n",
       "gold_per_minute              float64\n",
       "secondary_summoner_spell       int64\n",
       "first_item_encoded             int32\n",
       "champion_encoded               int32\n",
       "first_kill_time                int64\n",
       "dtype: object"
      ]
     },
     "execution_count": 254,
     "metadata": {},
     "output_type": "execute_result"
    }
   ],
   "source": [
    "reformatted_df.dtypes"
   ]
  },
  {
   "cell_type": "markdown",
   "metadata": {},
   "source": [
    "Now that our Data is cleaned and reformated and encoded, we have to split the data so that our model can Train and Test"
   ]
  },
  {
   "cell_type": "code",
   "execution_count": 250,
   "metadata": {},
   "outputs": [],
   "source": [
    "from sklearn.model_selection import train_test_split\n",
    "\n",
    "X = reformatted_df.drop(columns=['win'])  # Features\n",
    "y = reformatted_df['win']  # Target\n",
    "\n",
    "# Split the data into training and test sets\n",
    "X_train, X_test, y_train, y_test = train_test_split(X, y, test_size=0.2, random_state=42)"
   ]
  },
  {
   "cell_type": "code",
   "execution_count": 251,
   "metadata": {},
   "outputs": [
    {
     "name": "stdout",
     "output_type": "stream",
     "text": [
      "Training features shape: (1448, 11)\n",
      "Test features shape: (362, 11)\n",
      "Training target shape: (1448,)\n",
      "Test target shape: (362,)\n"
     ]
    }
   ],
   "source": [
    "print(f\"Training features shape: {X_train.shape}\")\n",
    "print(f\"Test features shape: {X_test.shape}\")\n",
    "print(f\"Training target shape: {y_train.shape}\")\n",
    "print(f\"Test target shape: {y_test.shape}\")"
   ]
  },
  {
   "cell_type": "markdown",
   "metadata": {},
   "source": [
    "3. Model Creation"
   ]
  },
  {
   "cell_type": "code",
   "execution_count": 252,
   "metadata": {},
   "outputs": [],
   "source": [
    "import tensorflow as tf\n",
    "from tensorflow.keras.models import Sequential\n",
    "from tensorflow.keras.layers import Dense, Dropout\n",
    "from tensorflow.keras.optimizers import Adam\n",
    "\n"
   ]
  },
  {
   "cell_type": "code",
   "execution_count": null,
   "metadata": {},
   "outputs": [],
   "source": []
  }
 ],
 "metadata": {
  "kernelspec": {
   "display_name": "Python 3",
   "language": "python",
   "name": "python3"
  },
  "language_info": {
   "codemirror_mode": {
    "name": "ipython",
    "version": 3
   },
   "file_extension": ".py",
   "mimetype": "text/x-python",
   "name": "python",
   "nbconvert_exporter": "python",
   "pygments_lexer": "ipython3",
   "version": "3.12.1"
  }
 },
 "nbformat": 4,
 "nbformat_minor": 2
}
