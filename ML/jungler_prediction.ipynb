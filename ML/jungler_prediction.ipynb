{
 "cells": [
  {
   "cell_type": "code",
   "execution_count": 269,
   "metadata": {},
   "outputs": [],
   "source": [
    "import pandas as pd\n",
    "\n",
    "df = pd.read_csv('../jungler_data.csv')"
   ]
  },
  {
   "cell_type": "markdown",
   "metadata": {},
   "source": [
    "1. Data Exploration"
   ]
  },
  {
   "cell_type": "code",
   "execution_count": 270,
   "metadata": {},
   "outputs": [
    {
     "data": {
      "text/plain": [
       "(3053, 13)"
      ]
     },
     "execution_count": 270,
     "metadata": {},
     "output_type": "execute_result"
    }
   ],
   "source": [
    "df.shape"
   ]
  },
  {
   "cell_type": "code",
   "execution_count": 271,
   "metadata": {},
   "outputs": [
    {
     "data": {
      "text/plain": [
       "Index(['kills_first_4_min', 'assists_first_4_min', 'camps_cleared_first_4_min',\n",
       "       'gold_earned_first_4_min', 'win', 'kills_details', 'summoner_spells',\n",
       "       'champion', 'first_item', 'level_at_first_blood', 'firstBlood',\n",
       "       'gold_per_minute', 'game_type'],\n",
       "      dtype='object')"
      ]
     },
     "execution_count": 271,
     "metadata": {},
     "output_type": "execute_result"
    }
   ],
   "source": [
    "df.columns"
   ]
  },
  {
   "cell_type": "code",
   "execution_count": 272,
   "metadata": {},
   "outputs": [
    {
     "data": {
      "text/plain": [
       "<bound method NDFrame.head of       kills_first_4_min  assists_first_4_min  camps_cleared_first_4_min  \\\n",
       "0                     0                    0                         28   \n",
       "1                     0                    0                         24   \n",
       "2                     0                    0                         28   \n",
       "3                     0                    0                         28   \n",
       "4                     1                    0                         24   \n",
       "...                 ...                  ...                        ...   \n",
       "3048                  1                    0                         19   \n",
       "3049                  1                    0                         20   \n",
       "3050                  1                    0                         16   \n",
       "3051                  0                    0                         12   \n",
       "3052                  1                    0                         24   \n",
       "\n",
       "      gold_earned_first_4_min    win kills_details summoner_spells champion  \\\n",
       "0                        1375   True            []         (11, 4)  Shyvana   \n",
       "1                        1315  False            []         (11, 4)    Viego   \n",
       "2                        1395   True            []         (4, 11)     Kayn   \n",
       "3                        1395  False            []         (11, 4)  Morgana   \n",
       "4                        1635   True      [226988]         (11, 4)     Kayn   \n",
       "...                       ...    ...           ...             ...      ...   \n",
       "3048                     1639   True       [53941]         (4, 11)   Rengar   \n",
       "3049                     1525   True      [229957]         (11, 4)  Evelynn   \n",
       "3050                     1620  False      [194365]         (4, 11)  Belveth   \n",
       "3051                     1086  False            []         (4, 11)   Khazix   \n",
       "3052                     1617   True      [189455]         (11, 4)   Lillia   \n",
       "\n",
       "     first_item  level_at_first_blood  firstBlood  gold_per_minute  \\\n",
       "0       No Item                     3       False           343.75   \n",
       "1          Blue                     3       False           328.75   \n",
       "2           Red                     3       False           348.75   \n",
       "3       No Item                     3       False           348.75   \n",
       "4           Red                     4       False           408.75   \n",
       "...         ...                   ...         ...              ...   \n",
       "3048        Red                     1        True           409.75   \n",
       "3049    No Item                     3       False           381.25   \n",
       "3050        Red                     3        True           405.00   \n",
       "3051       Blue                     3       False           271.50   \n",
       "3052       Blue                     3       False           404.25   \n",
       "\n",
       "            game_type  \n",
       "0     Ranked Solo/Duo  \n",
       "1     Ranked Solo/Duo  \n",
       "2         Ranked Flex  \n",
       "3         Ranked Flex  \n",
       "4     Ranked Solo/Duo  \n",
       "...               ...  \n",
       "3048  Ranked Solo/Duo  \n",
       "3049  Ranked Solo/Duo  \n",
       "3050  Ranked Solo/Duo  \n",
       "3051  Ranked Solo/Duo  \n",
       "3052  Ranked Solo/Duo  \n",
       "\n",
       "[3053 rows x 13 columns]>"
      ]
     },
     "execution_count": 272,
     "metadata": {},
     "output_type": "execute_result"
    }
   ],
   "source": [
    "df.head"
   ]
  },
  {
   "cell_type": "code",
   "execution_count": 273,
   "metadata": {},
   "outputs": [
    {
     "data": {
      "text/plain": [
       "kills_first_4_min              int64\n",
       "assists_first_4_min            int64\n",
       "camps_cleared_first_4_min      int64\n",
       "gold_earned_first_4_min        int64\n",
       "win                             bool\n",
       "kills_details                 object\n",
       "summoner_spells               object\n",
       "champion                      object\n",
       "first_item                    object\n",
       "level_at_first_blood           int64\n",
       "firstBlood                      bool\n",
       "gold_per_minute              float64\n",
       "game_type                     object\n",
       "dtype: object"
      ]
     },
     "execution_count": 273,
     "metadata": {},
     "output_type": "execute_result"
    }
   ],
   "source": [
    "df.dtypes"
   ]
  },
  {
   "cell_type": "markdown",
   "metadata": {},
   "source": [
    "2. Data Preprocessing\n",
    "\n",
    "We only care about Ranked Solo/Duo games, since these games are more competative than other game types"
   ]
  },
  {
   "cell_type": "code",
   "execution_count": 274,
   "metadata": {},
   "outputs": [],
   "source": [
    "ranked_only_df = df[df['game_type'] == 'Ranked Solo/Duo']"
   ]
  },
  {
   "cell_type": "code",
   "execution_count": 275,
   "metadata": {},
   "outputs": [
    {
     "data": {
      "text/plain": [
       "<bound method NDFrame.head of       kills_first_4_min  assists_first_4_min  camps_cleared_first_4_min  \\\n",
       "0                     0                    0                         28   \n",
       "1                     0                    0                         24   \n",
       "4                     1                    0                         24   \n",
       "5                     1                    0                         20   \n",
       "6                     0                    0                         16   \n",
       "...                 ...                  ...                        ...   \n",
       "3048                  1                    0                         19   \n",
       "3049                  1                    0                         20   \n",
       "3050                  1                    0                         16   \n",
       "3051                  0                    0                         12   \n",
       "3052                  1                    0                         24   \n",
       "\n",
       "      gold_earned_first_4_min    win kills_details summoner_spells  champion  \\\n",
       "0                        1375   True            []         (11, 4)   Shyvana   \n",
       "1                        1315  False            []         (11, 4)     Viego   \n",
       "4                        1635   True      [226988]         (11, 4)      Kayn   \n",
       "5                        1566  False      [198266]         (4, 11)  Nocturne   \n",
       "6                        1145   True            []         (11, 4)     Amumu   \n",
       "...                       ...    ...           ...             ...       ...   \n",
       "3048                     1639   True       [53941]         (4, 11)    Rengar   \n",
       "3049                     1525   True      [229957]         (11, 4)   Evelynn   \n",
       "3050                     1620  False      [194365]         (4, 11)   Belveth   \n",
       "3051                     1086  False            []         (4, 11)    Khazix   \n",
       "3052                     1617   True      [189455]         (11, 4)    Lillia   \n",
       "\n",
       "     first_item  level_at_first_blood  firstBlood  gold_per_minute  \\\n",
       "0       No Item                     3       False           343.75   \n",
       "1          Blue                     3       False           328.75   \n",
       "4           Red                     4       False           408.75   \n",
       "5           Red                     3       False           391.50   \n",
       "6         Green                     3       False           286.25   \n",
       "...         ...                   ...         ...              ...   \n",
       "3048        Red                     1        True           409.75   \n",
       "3049    No Item                     3       False           381.25   \n",
       "3050        Red                     3        True           405.00   \n",
       "3051       Blue                     3       False           271.50   \n",
       "3052       Blue                     3       False           404.25   \n",
       "\n",
       "            game_type  \n",
       "0     Ranked Solo/Duo  \n",
       "1     Ranked Solo/Duo  \n",
       "4     Ranked Solo/Duo  \n",
       "5     Ranked Solo/Duo  \n",
       "6     Ranked Solo/Duo  \n",
       "...               ...  \n",
       "3048  Ranked Solo/Duo  \n",
       "3049  Ranked Solo/Duo  \n",
       "3050  Ranked Solo/Duo  \n",
       "3051  Ranked Solo/Duo  \n",
       "3052  Ranked Solo/Duo  \n",
       "\n",
       "[2190 rows x 13 columns]>"
      ]
     },
     "execution_count": 275,
     "metadata": {},
     "output_type": "execute_result"
    }
   ],
   "source": [
    "ranked_only_df.head"
   ]
  },
  {
   "cell_type": "code",
   "execution_count": 276,
   "metadata": {},
   "outputs": [
    {
     "data": {
      "text/plain": [
       "(2190, 13)"
      ]
     },
     "execution_count": 276,
     "metadata": {},
     "output_type": "execute_result"
    }
   ],
   "source": [
    "ranked_only_df.shape"
   ]
  },
  {
   "cell_type": "markdown",
   "metadata": {},
   "source": [
    "We still have 2190 Games to use, thats Great!\n",
    "Lets check for duplicates"
   ]
  },
  {
   "cell_type": "code",
   "execution_count": 277,
   "metadata": {},
   "outputs": [
    {
     "name": "stdout",
     "output_type": "stream",
     "text": [
      "      kills_first_4_min  assists_first_4_min  camps_cleared_first_4_min  \\\n",
      "180                   0                    0                         28   \n",
      "305                   0                    0                         28   \n",
      "307                   0                    0                         28   \n",
      "314                   0                    0                         28   \n",
      "356                   0                    0                         28   \n",
      "...                 ...                  ...                        ...   \n",
      "2878                  0                    0                         28   \n",
      "2940                  0                    0                         28   \n",
      "2957                  0                    0                         28   \n",
      "3015                  0                    0                         28   \n",
      "3036                  0                    0                         28   \n",
      "\n",
      "      gold_earned_first_4_min    win kills_details summoner_spells  champion  \\\n",
      "180                      1395  False            []         (4, 11)   Shyvana   \n",
      "305                      1395   True            []         (6, 11)   Hecarim   \n",
      "307                      1395  False            []         (4, 11)     Amumu   \n",
      "314                      1395  False            []         (11, 4)   Shyvana   \n",
      "356                      1395   True            []         (4, 11)   Shyvana   \n",
      "...                       ...    ...           ...             ...       ...   \n",
      "2878                     1395  False            []         (11, 4)  Nocturne   \n",
      "2940                     1395  False            []         (11, 4)   Taliyah   \n",
      "2957                     1395   True            []         (11, 4)    Khazix   \n",
      "3015                     1395   True            []         (11, 6)   Hecarim   \n",
      "3036                     1395   True            []         (4, 11)  Nocturne   \n",
      "\n",
      "     first_item  level_at_first_blood  firstBlood  gold_per_minute  \\\n",
      "180         Red                     4       False           348.75   \n",
      "305        Blue                     4       False           348.75   \n",
      "307       Green                     4       False           348.75   \n",
      "314         Red                     3       False           348.75   \n",
      "356         Red                     3       False           348.75   \n",
      "...         ...                   ...         ...              ...   \n",
      "2878        Red                     3       False           348.75   \n",
      "2940        Red                     4       False           348.75   \n",
      "2957       Blue                     4       False           348.75   \n",
      "3015       Blue                     4       False           348.75   \n",
      "3036        Red                     4       False           348.75   \n",
      "\n",
      "            game_type  \n",
      "180   Ranked Solo/Duo  \n",
      "305   Ranked Solo/Duo  \n",
      "307   Ranked Solo/Duo  \n",
      "314   Ranked Solo/Duo  \n",
      "356   Ranked Solo/Duo  \n",
      "...               ...  \n",
      "2878  Ranked Solo/Duo  \n",
      "2940  Ranked Solo/Duo  \n",
      "2957  Ranked Solo/Duo  \n",
      "3015  Ranked Solo/Duo  \n",
      "3036  Ranked Solo/Duo  \n",
      "\n",
      "[380 rows x 13 columns]\n"
     ]
    }
   ],
   "source": [
    "duplicates = ranked_only_df[ranked_only_df.duplicated()]\n",
    "print(duplicates)"
   ]
  },
  {
   "cell_type": "markdown",
   "metadata": {},
   "source": [
    "380 Duplicates!!! Looks like our script had some overlap in the matches we recorded.\n",
    "\n",
    "Lets Drop these entries"
   ]
  },
  {
   "cell_type": "code",
   "execution_count": 278,
   "metadata": {},
   "outputs": [],
   "source": [
    "clean_df = ranked_only_df.drop_duplicates()"
   ]
  },
  {
   "cell_type": "code",
   "execution_count": 279,
   "metadata": {},
   "outputs": [
    {
     "name": "stdout",
     "output_type": "stream",
     "text": [
      "380\n"
     ]
    }
   ],
   "source": [
    "#Error Checking\n",
    "print(len(ranked_only_df) - len(clean_df))"
   ]
  },
  {
   "cell_type": "markdown",
   "metadata": {},
   "source": [
    "Our summoner_spells column can use some cleaning, since all entries have 11 in it, that is a constant, we only care about the summoner_spell that is not 11"
   ]
  },
  {
   "cell_type": "code",
   "execution_count": 280,
   "metadata": {},
   "outputs": [],
   "source": [
    "def extract_spell(spell_str):\n",
    "    spell_str = spell_str.strip('()')\n",
    "    spell_list = spell_str.split(',')\n",
    "    return int(spell_list[1]) if int(spell_list[0]) == 11 else int(spell_list[0])\n",
    "\n",
    "reformatted_df  =  clean_df.copy()"
   ]
  },
  {
   "cell_type": "code",
   "execution_count": 281,
   "metadata": {},
   "outputs": [],
   "source": [
    "# Apply the function to the Summoner_spells column\n",
    "reformatted_df['secondary_summoner_spell'] = reformatted_df['summoner_spells'].apply(extract_spell)\n",
    "\n",
    "# Drop the old column\n",
    "reformatted_df.drop(columns=['summoner_spells'], inplace=True)"
   ]
  },
  {
   "cell_type": "code",
   "execution_count": 282,
   "metadata": {},
   "outputs": [
    {
     "data": {
      "text/plain": [
       "0       4\n",
       "1       4\n",
       "4       4\n",
       "5       4\n",
       "6       4\n",
       "       ..\n",
       "3048    4\n",
       "3049    4\n",
       "3050    4\n",
       "3051    4\n",
       "3052    4\n",
       "Name: secondary_summoner_spell, Length: 1810, dtype: int64"
      ]
     },
     "execution_count": 282,
     "metadata": {},
     "output_type": "execute_result"
    }
   ],
   "source": [
    "reformatted_df['secondary_summoner_spell']"
   ]
  },
  {
   "cell_type": "code",
   "execution_count": 283,
   "metadata": {},
   "outputs": [
    {
     "name": "stdout",
     "output_type": "stream",
     "text": [
      "kills_first_4_min            0\n",
      "assists_first_4_min          0\n",
      "camps_cleared_first_4_min    0\n",
      "gold_earned_first_4_min      0\n",
      "win                          0\n",
      "kills_details                0\n",
      "champion                     0\n",
      "first_item                   0\n",
      "level_at_first_blood         0\n",
      "firstBlood                   0\n",
      "gold_per_minute              0\n",
      "game_type                    0\n",
      "secondary_summoner_spell     0\n",
      "dtype: int64\n"
     ]
    }
   ],
   "source": [
    "missing_values = reformatted_df.isnull().sum()\n",
    "print(missing_values)"
   ]
  },
  {
   "cell_type": "code",
   "execution_count": 284,
   "metadata": {},
   "outputs": [],
   "source": [
    "#Drop game_type column since they are all the same now\n",
    "reformatted_df = reformatted_df.drop(columns='game_type')"
   ]
  },
  {
   "cell_type": "markdown",
   "metadata": {},
   "source": [
    "Since I would Like to use a nueral network we have to encode some of our columns"
   ]
  },
  {
   "cell_type": "code",
   "execution_count": 285,
   "metadata": {},
   "outputs": [
    {
     "data": {
      "text/plain": [
       "kills_first_4_min              int64\n",
       "assists_first_4_min            int64\n",
       "camps_cleared_first_4_min      int64\n",
       "gold_earned_first_4_min        int64\n",
       "win                             bool\n",
       "kills_details                 object\n",
       "champion                      object\n",
       "first_item                    object\n",
       "level_at_first_blood           int64\n",
       "firstBlood                      bool\n",
       "gold_per_minute              float64\n",
       "secondary_summoner_spell       int64\n",
       "dtype: object"
      ]
     },
     "execution_count": 285,
     "metadata": {},
     "output_type": "execute_result"
    }
   ],
   "source": [
    "reformatted_df.dtypes"
   ]
  },
  {
   "cell_type": "code",
   "execution_count": 286,
   "metadata": {},
   "outputs": [
    {
     "name": "stdout",
     "output_type": "stream",
     "text": [
      "  first_item  first_item_encoded  champion  champion_encoded\n",
      "0    No Item                   2   Shyvana                55\n",
      "1       Blue                   0     Viego                68\n",
      "4        Red                   3      Kayn                23\n",
      "5        Red                   3  Nocturne                42\n",
      "6      Green                   1     Amumu                 0\n"
     ]
    }
   ],
   "source": [
    "from sklearn.preprocessing import LabelEncoder\n",
    "\n",
    "le_first_item = LabelEncoder()\n",
    "le_champion = LabelEncoder()\n",
    "\n",
    "reformatted_df['first_item_encoded'] = le_first_item.fit_transform(reformatted_df['first_item'])\n",
    "reformatted_df['champion_encoded'] = le_champion.fit_transform(reformatted_df['champion'])\n",
    "\n",
    "print(reformatted_df[['first_item', 'first_item_encoded', 'champion', 'champion_encoded']].head())\n",
    "\n"
   ]
  },
  {
   "cell_type": "code",
   "execution_count": 287,
   "metadata": {},
   "outputs": [
    {
     "name": "stdout",
     "output_type": "stream",
     "text": [
      "0       55\n",
      "1       68\n",
      "4       23\n",
      "5       42\n",
      "6        0\n",
      "        ..\n",
      "3048    50\n",
      "3049    12\n",
      "3050     3\n",
      "3051    25\n",
      "3052    30\n",
      "Name: champion_encoded, Length: 1810, dtype: int32\n"
     ]
    }
   ],
   "source": [
    "print(reformatted_df['champion_encoded'])"
   ]
  },
  {
   "cell_type": "code",
   "execution_count": 288,
   "metadata": {},
   "outputs": [],
   "source": [
    "reformatted_df = reformatted_df.drop(columns=['first_item', 'champion'])"
   ]
  },
  {
   "cell_type": "code",
   "execution_count": 289,
   "metadata": {},
   "outputs": [],
   "source": [
    "#Change kill details to first_kill_time, which records the timestamp of the junglers first kill of the game\n",
    "reformatted_df['first_kill_time'] = reformatted_df['kills_details'].apply(lambda x: int(eval(x)[0]) if eval(x) else 0)\n",
    "reformatted_df = reformatted_df.drop(columns=['kills_details'])\n"
   ]
  },
  {
   "cell_type": "code",
   "execution_count": 290,
   "metadata": {},
   "outputs": [
    {
     "data": {
      "text/plain": [
       "kills_first_4_min              int64\n",
       "assists_first_4_min            int64\n",
       "camps_cleared_first_4_min      int64\n",
       "gold_earned_first_4_min        int64\n",
       "win                             bool\n",
       "level_at_first_blood           int64\n",
       "firstBlood                      bool\n",
       "gold_per_minute              float64\n",
       "secondary_summoner_spell       int64\n",
       "first_item_encoded             int32\n",
       "champion_encoded               int32\n",
       "first_kill_time                int64\n",
       "dtype: object"
      ]
     },
     "execution_count": 290,
     "metadata": {},
     "output_type": "execute_result"
    }
   ],
   "source": [
    "reformatted_df.dtypes"
   ]
  },
  {
   "cell_type": "markdown",
   "metadata": {},
   "source": [
    "Now that our Data is cleaned and reformated and encoded, we have to split the data so that our model can Train and Test"
   ]
  },
  {
   "cell_type": "code",
   "execution_count": 291,
   "metadata": {},
   "outputs": [],
   "source": [
    "from sklearn.model_selection import train_test_split\n",
    "\n",
    "X = reformatted_df.drop(columns=['win'])  # Features\n",
    "y = reformatted_df['win']  # Target\n",
    "\n",
    "# Split the data into training and test sets\n",
    "X_train, X_test, y_train, y_test = train_test_split(X, y, test_size=0.2, random_state=42)"
   ]
  },
  {
   "cell_type": "code",
   "execution_count": 292,
   "metadata": {},
   "outputs": [
    {
     "name": "stdout",
     "output_type": "stream",
     "text": [
      "Training features shape: (1448, 11)\n",
      "Test features shape: (362, 11)\n",
      "Training target shape: (1448,)\n",
      "Test target shape: (362,)\n"
     ]
    }
   ],
   "source": [
    "print(f\"Training features shape: {X_train.shape}\")\n",
    "print(f\"Test features shape: {X_test.shape}\")\n",
    "print(f\"Training target shape: {y_train.shape}\")\n",
    "print(f\"Test target shape: {y_test.shape}\")"
   ]
  },
  {
   "cell_type": "markdown",
   "metadata": {},
   "source": [
    "3. Model Creation"
   ]
  },
  {
   "cell_type": "code",
   "execution_count": 293,
   "metadata": {},
   "outputs": [
    {
     "name": "stdout",
     "output_type": "stream",
     "text": [
      "Epoch 1/20\n",
      "\u001b[1m37/37\u001b[0m \u001b[32m━━━━━━━━━━━━━━━━━━━━\u001b[0m\u001b[37m\u001b[0m \u001b[1m1s\u001b[0m 4ms/step - accuracy: 0.5021 - loss: 2485.9319 - val_accuracy: 0.4759 - val_loss: 61.7495\n",
      "Epoch 2/20\n",
      "\u001b[1m37/37\u001b[0m \u001b[32m━━━━━━━━━━━━━━━━━━━━\u001b[0m\u001b[37m\u001b[0m \u001b[1m0s\u001b[0m 1ms/step - accuracy: 0.4768 - loss: 335.0354 - val_accuracy: 0.4759 - val_loss: 11.3808\n",
      "Epoch 3/20\n",
      "\u001b[1m37/37\u001b[0m \u001b[32m━━━━━━━━━━━━━━━━━━━━\u001b[0m\u001b[37m\u001b[0m \u001b[1m0s\u001b[0m 1ms/step - accuracy: 0.5262 - loss: 239.9062 - val_accuracy: 0.4621 - val_loss: 25.1229\n",
      "Epoch 4/20\n",
      "\u001b[1m37/37\u001b[0m \u001b[32m━━━━━━━━━━━━━━━━━━━━\u001b[0m\u001b[37m\u001b[0m \u001b[1m0s\u001b[0m 1ms/step - accuracy: 0.5221 - loss: 177.1137 - val_accuracy: 0.5241 - val_loss: 11.9496\n",
      "Epoch 5/20\n",
      "\u001b[1m37/37\u001b[0m \u001b[32m━━━━━━━━━━━━━━━━━━━━\u001b[0m\u001b[37m\u001b[0m \u001b[1m0s\u001b[0m 1ms/step - accuracy: 0.5164 - loss: 86.8238 - val_accuracy: 0.5172 - val_loss: 5.3549\n",
      "Epoch 6/20\n",
      "\u001b[1m37/37\u001b[0m \u001b[32m━━━━━━━━━━━━━━━━━━━━\u001b[0m\u001b[37m\u001b[0m \u001b[1m0s\u001b[0m 1ms/step - accuracy: 0.5276 - loss: 28.2445 - val_accuracy: 0.4828 - val_loss: 7.7227\n",
      "Epoch 7/20\n",
      "\u001b[1m37/37\u001b[0m \u001b[32m━━━━━━━━━━━━━━━━━━━━\u001b[0m\u001b[37m\u001b[0m \u001b[1m0s\u001b[0m 1ms/step - accuracy: 0.5072 - loss: 17.5785 - val_accuracy: 0.5069 - val_loss: 0.7598\n",
      "Epoch 8/20\n",
      "\u001b[1m37/37\u001b[0m \u001b[32m━━━━━━━━━━━━━━━━━━━━\u001b[0m\u001b[37m\u001b[0m \u001b[1m0s\u001b[0m 1ms/step - accuracy: 0.4896 - loss: 1.2436 - val_accuracy: 0.5172 - val_loss: 1.3663\n",
      "Epoch 9/20\n",
      "\u001b[1m37/37\u001b[0m \u001b[32m━━━━━━━━━━━━━━━━━━━━\u001b[0m\u001b[37m\u001b[0m \u001b[1m0s\u001b[0m 1ms/step - accuracy: 0.5101 - loss: 1.1377 - val_accuracy: 0.4655 - val_loss: 0.7541\n",
      "Epoch 10/20\n",
      "\u001b[1m37/37\u001b[0m \u001b[32m━━━━━━━━━━━━━━━━━━━━\u001b[0m\u001b[37m\u001b[0m \u001b[1m0s\u001b[0m 1ms/step - accuracy: 0.5054 - loss: 0.9903 - val_accuracy: 0.5241 - val_loss: 0.7476\n",
      "Epoch 11/20\n",
      "\u001b[1m37/37\u001b[0m \u001b[32m━━━━━━━━━━━━━━━━━━━━\u001b[0m\u001b[37m\u001b[0m \u001b[1m0s\u001b[0m 1ms/step - accuracy: 0.5108 - loss: 1.0693 - val_accuracy: 0.4655 - val_loss: 0.7165\n",
      "Epoch 12/20\n",
      "\u001b[1m37/37\u001b[0m \u001b[32m━━━━━━━━━━━━━━━━━━━━\u001b[0m\u001b[37m\u001b[0m \u001b[1m0s\u001b[0m 1ms/step - accuracy: 0.4964 - loss: 0.7610 - val_accuracy: 0.5172 - val_loss: 0.7074\n",
      "Epoch 13/20\n",
      "\u001b[1m37/37\u001b[0m \u001b[32m━━━━━━━━━━━━━━━━━━━━\u001b[0m\u001b[37m\u001b[0m \u001b[1m0s\u001b[0m 1ms/step - accuracy: 0.5068 - loss: 0.7175 - val_accuracy: 0.4759 - val_loss: 0.7170\n",
      "Epoch 14/20\n",
      "\u001b[1m37/37\u001b[0m \u001b[32m━━━━━━━━━━━━━━━━━━━━\u001b[0m\u001b[37m\u001b[0m \u001b[1m0s\u001b[0m 1ms/step - accuracy: 0.4928 - loss: 0.7212 - val_accuracy: 0.5276 - val_loss: 0.6887\n",
      "Epoch 15/20\n",
      "\u001b[1m37/37\u001b[0m \u001b[32m━━━━━━━━━━━━━━━━━━━━\u001b[0m\u001b[37m\u001b[0m \u001b[1m0s\u001b[0m 1ms/step - accuracy: 0.5306 - loss: 0.7123 - val_accuracy: 0.4586 - val_loss: 0.6975\n",
      "Epoch 16/20\n",
      "\u001b[1m37/37\u001b[0m \u001b[32m━━━━━━━━━━━━━━━━━━━━\u001b[0m\u001b[37m\u001b[0m \u001b[1m0s\u001b[0m 1ms/step - accuracy: 0.4879 - loss: 0.7483 - val_accuracy: 0.5276 - val_loss: 0.7601\n",
      "Epoch 17/20\n",
      "\u001b[1m37/37\u001b[0m \u001b[32m━━━━━━━━━━━━━━━━━━━━\u001b[0m\u001b[37m\u001b[0m \u001b[1m0s\u001b[0m 1ms/step - accuracy: 0.5210 - loss: 0.7161 - val_accuracy: 0.5172 - val_loss: 0.6881\n",
      "Epoch 18/20\n",
      "\u001b[1m37/37\u001b[0m \u001b[32m━━━━━━━━━━━━━━━━━━━━\u001b[0m\u001b[37m\u001b[0m \u001b[1m0s\u001b[0m 1ms/step - accuracy: 0.4988 - loss: 0.7118 - val_accuracy: 0.4690 - val_loss: 0.7392\n",
      "Epoch 19/20\n",
      "\u001b[1m37/37\u001b[0m \u001b[32m━━━━━━━━━━━━━━━━━━━━\u001b[0m\u001b[37m\u001b[0m \u001b[1m0s\u001b[0m 1ms/step - accuracy: 0.5368 - loss: 0.7512 - val_accuracy: 0.5276 - val_loss: 0.6895\n",
      "Epoch 20/20\n",
      "\u001b[1m37/37\u001b[0m \u001b[32m━━━━━━━━━━━━━━━━━━━━\u001b[0m\u001b[37m\u001b[0m \u001b[1m0s\u001b[0m 1ms/step - accuracy: 0.5282 - loss: 0.7237 - val_accuracy: 0.5207 - val_loss: 0.8336\n",
      "\u001b[1m12/12\u001b[0m \u001b[32m━━━━━━━━━━━━━━━━━━━━\u001b[0m\u001b[37m\u001b[0m \u001b[1m0s\u001b[0m 635us/step - accuracy: 0.4393 - loss: 0.9551\n",
      "Test loss: 0.93973308801651\n",
      "Test accuracy: 0.46408841013908386\n"
     ]
    }
   ],
   "source": [
    "import tensorflow as tf\n",
    "from tensorflow.keras.models import Sequential\n",
    "from tensorflow.keras.layers import Dense, Dropout, Input\n",
    "from tensorflow.keras.optimizers import Adam\n",
    "\n",
    "# X_train: features, y_train: target variable\n",
    "\n",
    "model = Sequential([\n",
    "    # Input layer\n",
    "    Input(shape=(X_train.shape[1],)),\n",
    "\n",
    "    # Hidden layers\n",
    "    Dense(64, activation='relu'),\n",
    "    Dense(32, activation='relu'),\n",
    "    Dropout(0.3),  \n",
    "    Dense(16, activation='relu'),\n",
    "\n",
    "    # Output layer\n",
    "    Dense(1, activation='sigmoid')\n",
    "])\n",
    "\n",
    "# Compile the model\n",
    "model.compile(optimizer=Adam(),\n",
    "              loss='binary_crossentropy',\n",
    "              metrics=['accuracy'])\n",
    "\n",
    "# Train the model\n",
    "history = model.fit(X_train, y_train,\n",
    "                    epochs=20,  \n",
    "                    batch_size=32,  \n",
    "                    validation_split=0.2)  # Use a portion of data for validation\n",
    "\n",
    "# Evaluate the model\n",
    "loss, accuracy = model.evaluate(X_test, y_test)  \n",
    "print(f'Test loss: {loss}')\n",
    "print(f'Test accuracy: {accuracy}')\n"
   ]
  },
  {
   "cell_type": "markdown",
   "metadata": {},
   "source": [
    "Wow not a great outcome for out first run, model is underfitting\n",
    "\n",
    "Some thoughts for improvement:\n",
    "\n",
    "Get rid of the champion feature, since there is a big variety and may have little corelation/importance in this instance\n",
    "\n",
    "Adjust hyperparameters"
   ]
  },
  {
   "cell_type": "markdown",
   "metadata": {},
   "source": [
    "4. Model Tuning"
   ]
  },
  {
   "cell_type": "code",
   "execution_count": 294,
   "metadata": {},
   "outputs": [],
   "source": [
    "new_df = reformatted_df.drop(columns=['champion_encoded'])"
   ]
  },
  {
   "cell_type": "code",
   "execution_count": 295,
   "metadata": {},
   "outputs": [
    {
     "data": {
      "text/plain": [
       "kills_first_4_min              int64\n",
       "assists_first_4_min            int64\n",
       "camps_cleared_first_4_min      int64\n",
       "gold_earned_first_4_min        int64\n",
       "win                             bool\n",
       "level_at_first_blood           int64\n",
       "firstBlood                      bool\n",
       "gold_per_minute              float64\n",
       "secondary_summoner_spell       int64\n",
       "first_item_encoded             int32\n",
       "first_kill_time                int64\n",
       "dtype: object"
      ]
     },
     "execution_count": 295,
     "metadata": {},
     "output_type": "execute_result"
    }
   ],
   "source": [
    "new_df.dtypes"
   ]
  },
  {
   "cell_type": "code",
   "execution_count": 296,
   "metadata": {},
   "outputs": [],
   "source": [
    "X = new_df.drop(columns=['win'])  # Features\n",
    "y = new_df['win']  # Target\n",
    "\n",
    "# Split the data into training and test sets\n",
    "X_train, X_test, y_train, y_test = train_test_split(X, y, test_size=0.2, random_state=42)"
   ]
  },
  {
   "cell_type": "code",
   "execution_count": 297,
   "metadata": {},
   "outputs": [
    {
     "name": "stdout",
     "output_type": "stream",
     "text": [
      "Epoch 1/40\n",
      "\u001b[1m37/37\u001b[0m \u001b[32m━━━━━━━━━━━━━━━━━━━━\u001b[0m\u001b[37m\u001b[0m \u001b[1m1s\u001b[0m 4ms/step - accuracy: 0.4890 - loss: 2110.6670 - val_accuracy: 0.4759 - val_loss: 212.1687\n",
      "Epoch 2/40\n",
      "\u001b[1m37/37\u001b[0m \u001b[32m━━━━━━━━━━━━━━━━━━━━\u001b[0m\u001b[37m\u001b[0m \u001b[1m0s\u001b[0m 1ms/step - accuracy: 0.5143 - loss: 550.0527 - val_accuracy: 0.4759 - val_loss: 160.2881\n",
      "Epoch 3/40\n",
      "\u001b[1m37/37\u001b[0m \u001b[32m━━━━━━━━━━━━━━━━━━━━\u001b[0m\u001b[37m\u001b[0m \u001b[1m0s\u001b[0m 1ms/step - accuracy: 0.4986 - loss: 489.4833 - val_accuracy: 0.4759 - val_loss: 7.8827\n",
      "Epoch 4/40\n",
      "\u001b[1m37/37\u001b[0m \u001b[32m━━━━━━━━━━━━━━━━━━━━\u001b[0m\u001b[37m\u001b[0m \u001b[1m0s\u001b[0m 1ms/step - accuracy: 0.4957 - loss: 233.3166 - val_accuracy: 0.4793 - val_loss: 191.0955\n",
      "Epoch 5/40\n",
      "\u001b[1m37/37\u001b[0m \u001b[32m━━━━━━━━━━━━━━━━━━━━\u001b[0m\u001b[37m\u001b[0m \u001b[1m0s\u001b[0m 1ms/step - accuracy: 0.5104 - loss: 198.9562 - val_accuracy: 0.5241 - val_loss: 75.2019\n",
      "Epoch 6/40\n",
      "\u001b[1m37/37\u001b[0m \u001b[32m━━━━━━━━━━━━━━━━━━━━\u001b[0m\u001b[37m\u001b[0m \u001b[1m0s\u001b[0m 1ms/step - accuracy: 0.5234 - loss: 81.6519 - val_accuracy: 0.5172 - val_loss: 28.2100\n",
      "Epoch 7/40\n",
      "\u001b[1m37/37\u001b[0m \u001b[32m━━━━━━━━━━━━━━━━━━━━\u001b[0m\u001b[37m\u001b[0m \u001b[1m0s\u001b[0m 1ms/step - accuracy: 0.4984 - loss: 52.6137 - val_accuracy: 0.5276 - val_loss: 2.2526\n",
      "Epoch 8/40\n",
      "\u001b[1m37/37\u001b[0m \u001b[32m━━━━━━━━━━━━━━━━━━━━\u001b[0m\u001b[37m\u001b[0m \u001b[1m0s\u001b[0m 1ms/step - accuracy: 0.4725 - loss: 43.4267 - val_accuracy: 0.5241 - val_loss: 15.6714\n",
      "Epoch 9/40\n",
      "\u001b[1m37/37\u001b[0m \u001b[32m━━━━━━━━━━━━━━━━━━━━\u001b[0m\u001b[37m\u001b[0m \u001b[1m0s\u001b[0m 1ms/step - accuracy: 0.4755 - loss: 40.7234 - val_accuracy: 0.5241 - val_loss: 7.3298\n",
      "Epoch 10/40\n",
      "\u001b[1m37/37\u001b[0m \u001b[32m━━━━━━━━━━━━━━━━━━━━\u001b[0m\u001b[37m\u001b[0m \u001b[1m0s\u001b[0m 1ms/step - accuracy: 0.5292 - loss: 31.3918 - val_accuracy: 0.4828 - val_loss: 2.9456\n",
      "Epoch 11/40\n",
      "\u001b[1m37/37\u001b[0m \u001b[32m━━━━━━━━━━━━━━━━━━━━\u001b[0m\u001b[37m\u001b[0m \u001b[1m0s\u001b[0m 1ms/step - accuracy: 0.5119 - loss: 20.9906 - val_accuracy: 0.5241 - val_loss: 0.7881\n",
      "Epoch 12/40\n",
      "\u001b[1m37/37\u001b[0m \u001b[32m━━━━━━━━━━━━━━━━━━━━\u001b[0m\u001b[37m\u001b[0m \u001b[1m0s\u001b[0m 1ms/step - accuracy: 0.4990 - loss: 12.3565 - val_accuracy: 0.5276 - val_loss: 1.2380\n",
      "Epoch 13/40\n",
      "\u001b[1m37/37\u001b[0m \u001b[32m━━━━━━━━━━━━━━━━━━━━\u001b[0m\u001b[37m\u001b[0m \u001b[1m0s\u001b[0m 1ms/step - accuracy: 0.4938 - loss: 11.0227 - val_accuracy: 0.5310 - val_loss: 5.1145\n",
      "Epoch 14/40\n",
      "\u001b[1m37/37\u001b[0m \u001b[32m━━━━━━━━━━━━━━━━━━━━\u001b[0m\u001b[37m\u001b[0m \u001b[1m0s\u001b[0m 1ms/step - accuracy: 0.5180 - loss: 6.3153 - val_accuracy: 0.5310 - val_loss: 1.4590\n",
      "Epoch 15/40\n",
      "\u001b[1m37/37\u001b[0m \u001b[32m━━━━━━━━━━━━━━━━━━━━\u001b[0m\u001b[37m\u001b[0m \u001b[1m0s\u001b[0m 1ms/step - accuracy: 0.4940 - loss: 4.5746 - val_accuracy: 0.5276 - val_loss: 2.8086\n",
      "Epoch 16/40\n",
      "\u001b[1m37/37\u001b[0m \u001b[32m━━━━━━━━━━━━━━━━━━━━\u001b[0m\u001b[37m\u001b[0m \u001b[1m0s\u001b[0m 1ms/step - accuracy: 0.5191 - loss: 4.0677 - val_accuracy: 0.5276 - val_loss: 0.9976\n",
      "Epoch 17/40\n",
      "\u001b[1m37/37\u001b[0m \u001b[32m━━━━━━━━━━━━━━━━━━━━\u001b[0m\u001b[37m\u001b[0m \u001b[1m0s\u001b[0m 1ms/step - accuracy: 0.5140 - loss: 1.4747 - val_accuracy: 0.5241 - val_loss: 2.2020\n",
      "Epoch 18/40\n",
      "\u001b[1m37/37\u001b[0m \u001b[32m━━━━━━━━━━━━━━━━━━━━\u001b[0m\u001b[37m\u001b[0m \u001b[1m0s\u001b[0m 1ms/step - accuracy: 0.5157 - loss: 3.0354 - val_accuracy: 0.5138 - val_loss: 0.6836\n",
      "Epoch 19/40\n",
      "\u001b[1m37/37\u001b[0m \u001b[32m━━━━━━━━━━━━━━━━━━━━\u001b[0m\u001b[37m\u001b[0m \u001b[1m0s\u001b[0m 1ms/step - accuracy: 0.5278 - loss: 1.1339 - val_accuracy: 0.5241 - val_loss: 0.8975\n",
      "Epoch 20/40\n",
      "\u001b[1m37/37\u001b[0m \u001b[32m━━━━━━━━━━━━━━━━━━━━\u001b[0m\u001b[37m\u001b[0m \u001b[1m0s\u001b[0m 1ms/step - accuracy: 0.4999 - loss: 1.0890 - val_accuracy: 0.5241 - val_loss: 0.7848\n",
      "Epoch 21/40\n",
      "\u001b[1m37/37\u001b[0m \u001b[32m━━━━━━━━━━━━━━━━━━━━\u001b[0m\u001b[37m\u001b[0m \u001b[1m0s\u001b[0m 1ms/step - accuracy: 0.5388 - loss: 0.9879 - val_accuracy: 0.5241 - val_loss: 1.9377\n",
      "Epoch 22/40\n",
      "\u001b[1m37/37\u001b[0m \u001b[32m━━━━━━━━━━━━━━━━━━━━\u001b[0m\u001b[37m\u001b[0m \u001b[1m0s\u001b[0m 1ms/step - accuracy: 0.4964 - loss: 1.5961 - val_accuracy: 0.5241 - val_loss: 1.0993\n",
      "Epoch 23/40\n",
      "\u001b[1m37/37\u001b[0m \u001b[32m━━━━━━━━━━━━━━━━━━━━\u001b[0m\u001b[37m\u001b[0m \u001b[1m0s\u001b[0m 1ms/step - accuracy: 0.5368 - loss: 1.0594 - val_accuracy: 0.5241 - val_loss: 1.2589\n",
      "Epoch 24/40\n",
      "\u001b[1m37/37\u001b[0m \u001b[32m━━━━━━━━━━━━━━━━━━━━\u001b[0m\u001b[37m\u001b[0m \u001b[1m0s\u001b[0m 1ms/step - accuracy: 0.5297 - loss: 1.0810 - val_accuracy: 0.5241 - val_loss: 0.8281\n",
      "Epoch 25/40\n",
      "\u001b[1m37/37\u001b[0m \u001b[32m━━━━━━━━━━━━━━━━━━━━\u001b[0m\u001b[37m\u001b[0m \u001b[1m0s\u001b[0m 1ms/step - accuracy: 0.5289 - loss: 0.9147 - val_accuracy: 0.5241 - val_loss: 1.2205\n",
      "Epoch 26/40\n",
      "\u001b[1m37/37\u001b[0m \u001b[32m━━━━━━━━━━━━━━━━━━━━\u001b[0m\u001b[37m\u001b[0m \u001b[1m0s\u001b[0m 1ms/step - accuracy: 0.5068 - loss: 1.1391 - val_accuracy: 0.5241 - val_loss: 0.8805\n",
      "Epoch 27/40\n",
      "\u001b[1m37/37\u001b[0m \u001b[32m━━━━━━━━━━━━━━━━━━━━\u001b[0m\u001b[37m\u001b[0m \u001b[1m0s\u001b[0m 1ms/step - accuracy: 0.5142 - loss: 1.1884 - val_accuracy: 0.5241 - val_loss: 0.8464\n",
      "Epoch 28/40\n",
      "\u001b[1m37/37\u001b[0m \u001b[32m━━━━━━━━━━━━━━━━━━━━\u001b[0m\u001b[37m\u001b[0m \u001b[1m0s\u001b[0m 1ms/step - accuracy: 0.5059 - loss: 0.8122 - val_accuracy: 0.5241 - val_loss: 0.6884\n",
      "Epoch 29/40\n",
      "\u001b[1m37/37\u001b[0m \u001b[32m━━━━━━━━━━━━━━━━━━━━\u001b[0m\u001b[37m\u001b[0m \u001b[1m0s\u001b[0m 1ms/step - accuracy: 0.5224 - loss: 0.7293 - val_accuracy: 0.5241 - val_loss: 0.7032\n",
      "Epoch 30/40\n",
      "\u001b[1m37/37\u001b[0m \u001b[32m━━━━━━━━━━━━━━━━━━━━\u001b[0m\u001b[37m\u001b[0m \u001b[1m0s\u001b[0m 1ms/step - accuracy: 0.5022 - loss: 0.7865 - val_accuracy: 0.5241 - val_loss: 0.8292\n",
      "Epoch 31/40\n",
      "\u001b[1m37/37\u001b[0m \u001b[32m━━━━━━━━━━━━━━━━━━━━\u001b[0m\u001b[37m\u001b[0m \u001b[1m0s\u001b[0m 1ms/step - accuracy: 0.5050 - loss: 0.8233 - val_accuracy: 0.5241 - val_loss: 0.6997\n",
      "Epoch 32/40\n",
      "\u001b[1m37/37\u001b[0m \u001b[32m━━━━━━━━━━━━━━━━━━━━\u001b[0m\u001b[37m\u001b[0m \u001b[1m0s\u001b[0m 1ms/step - accuracy: 0.5190 - loss: 0.7077 - val_accuracy: 0.5241 - val_loss: 0.7416\n",
      "Epoch 33/40\n",
      "\u001b[1m37/37\u001b[0m \u001b[32m━━━━━━━━━━━━━━━━━━━━\u001b[0m\u001b[37m\u001b[0m \u001b[1m0s\u001b[0m 1ms/step - accuracy: 0.4943 - loss: 0.7551 - val_accuracy: 0.5207 - val_loss: 0.6917\n",
      "Epoch 34/40\n",
      "\u001b[1m37/37\u001b[0m \u001b[32m━━━━━━━━━━━━━━━━━━━━\u001b[0m\u001b[37m\u001b[0m \u001b[1m0s\u001b[0m 1ms/step - accuracy: 0.5252 - loss: 0.7141 - val_accuracy: 0.5241 - val_loss: 0.7511\n",
      "Epoch 35/40\n",
      "\u001b[1m37/37\u001b[0m \u001b[32m━━━━━━━━━━━━━━━━━━━━\u001b[0m\u001b[37m\u001b[0m \u001b[1m0s\u001b[0m 1ms/step - accuracy: 0.4901 - loss: 0.7421 - val_accuracy: 0.5241 - val_loss: 0.7237\n",
      "Epoch 36/40\n",
      "\u001b[1m37/37\u001b[0m \u001b[32m━━━━━━━━━━━━━━━━━━━━\u001b[0m\u001b[37m\u001b[0m \u001b[1m0s\u001b[0m 1ms/step - accuracy: 0.5145 - loss: 0.7602 - val_accuracy: 0.5241 - val_loss: 0.6869\n",
      "Epoch 37/40\n",
      "\u001b[1m37/37\u001b[0m \u001b[32m━━━━━━━━━━━━━━━━━━━━\u001b[0m\u001b[37m\u001b[0m \u001b[1m0s\u001b[0m 1ms/step - accuracy: 0.5334 - loss: 0.6981 - val_accuracy: 0.5241 - val_loss: 0.6864\n",
      "Epoch 38/40\n",
      "\u001b[1m37/37\u001b[0m \u001b[32m━━━━━━━━━━━━━━━━━━━━\u001b[0m\u001b[37m\u001b[0m \u001b[1m0s\u001b[0m 1ms/step - accuracy: 0.5127 - loss: 0.6998 - val_accuracy: 0.5241 - val_loss: 0.6994\n",
      "Epoch 39/40\n",
      "\u001b[1m37/37\u001b[0m \u001b[32m━━━━━━━━━━━━━━━━━━━━\u001b[0m\u001b[37m\u001b[0m \u001b[1m0s\u001b[0m 1ms/step - accuracy: 0.5398 - loss: 0.7022 - val_accuracy: 0.5241 - val_loss: 0.6996\n",
      "Epoch 40/40\n",
      "\u001b[1m37/37\u001b[0m \u001b[32m━━━━━━━━━━━━━━━━━━━━\u001b[0m\u001b[37m\u001b[0m \u001b[1m0s\u001b[0m 1ms/step - accuracy: 0.5553 - loss: 0.7355 - val_accuracy: 0.5241 - val_loss: 0.6897\n",
      "\u001b[1m12/12\u001b[0m \u001b[32m━━━━━━━━━━━━━━━━━━━━\u001b[0m\u001b[37m\u001b[0m \u001b[1m0s\u001b[0m 544us/step - accuracy: 0.5061 - loss: 0.6908\n",
      "Test loss: 0.6898371577262878\n",
      "Test accuracy: 0.5220994353294373\n"
     ]
    }
   ],
   "source": [
    "model = Sequential([\n",
    "    # Input layer\n",
    "    Input(shape=(X_train.shape[1],)),\n",
    "\n",
    "    # Hidden layers\n",
    "    Dense(64, activation='relu'),\n",
    "    Dense(32, activation='relu'),\n",
    "    Dropout(0.3),  \n",
    "    Dense(16, activation='relu'),\n",
    "\n",
    "    # Output layer\n",
    "    Dense(1, activation='sigmoid')\n",
    "])\n",
    "\n",
    "# Compile the model\n",
    "model.compile(optimizer=Adam(),\n",
    "              loss='binary_crossentropy',\n",
    "              metrics=['accuracy'])\n",
    "\n",
    "# Train the model\n",
    "history = model.fit(X_train, y_train,\n",
    "                    epochs=40,  # Adjust the number of epochs as needed\n",
    "                    batch_size=32,  # Adjust batch size as needed\n",
    "                    validation_split=0.2)  # Use a portion of data for validation\n",
    "\n",
    "# Evaluate the model\n",
    "loss, accuracy = model.evaluate(X_test, y_test)  # Assuming you have test data\n",
    "print(f'Test loss: {loss}')\n",
    "print(f'Test accuracy: {accuracy}')"
   ]
  },
  {
   "cell_type": "markdown",
   "metadata": {},
   "source": [
    "Better results without using champion, and increasing number of epochs to 40"
   ]
  },
  {
   "cell_type": "code",
   "execution_count": 302,
   "metadata": {},
   "outputs": [
    {
     "name": "stdout",
     "output_type": "stream",
     "text": [
      "Epoch 1/50\n",
      "\u001b[1m37/37\u001b[0m \u001b[32m━━━━━━━━━━━━━━━━━━━━\u001b[0m\u001b[37m\u001b[0m \u001b[1m2s\u001b[0m 5ms/step - accuracy: 0.4782 - loss: 0.7927 - val_accuracy: 0.4828 - val_loss: 1.1040\n",
      "Epoch 2/50\n",
      "\u001b[1m37/37\u001b[0m \u001b[32m━━━━━━━━━━━━━━━━━━━━\u001b[0m\u001b[37m\u001b[0m \u001b[1m0s\u001b[0m 2ms/step - accuracy: 0.5077 - loss: 0.7168 - val_accuracy: 0.4759 - val_loss: 1.3060\n",
      "Epoch 3/50\n",
      "\u001b[1m37/37\u001b[0m \u001b[32m━━━━━━━━━━━━━━━━━━━━\u001b[0m\u001b[37m\u001b[0m \u001b[1m0s\u001b[0m 2ms/step - accuracy: 0.5119 - loss: 0.7083 - val_accuracy: 0.4828 - val_loss: 0.9187\n",
      "Epoch 4/50\n",
      "\u001b[1m37/37\u001b[0m \u001b[32m━━━━━━━━━━━━━━━━━━━━\u001b[0m\u001b[37m\u001b[0m \u001b[1m0s\u001b[0m 2ms/step - accuracy: 0.5318 - loss: 0.6953 - val_accuracy: 0.4793 - val_loss: 0.7310\n",
      "Epoch 5/50\n",
      "\u001b[1m37/37\u001b[0m \u001b[32m━━━━━━━━━━━━━━━━━━━━\u001b[0m\u001b[37m\u001b[0m \u001b[1m0s\u001b[0m 2ms/step - accuracy: 0.4843 - loss: 0.7076 - val_accuracy: 0.4897 - val_loss: 0.7123\n",
      "Epoch 6/50\n",
      "\u001b[1m37/37\u001b[0m \u001b[32m━━━━━━━━━━━━━━━━━━━━\u001b[0m\u001b[37m\u001b[0m \u001b[1m0s\u001b[0m 2ms/step - accuracy: 0.5193 - loss: 0.7037 - val_accuracy: 0.5241 - val_loss: 0.7049\n",
      "Epoch 7/50\n",
      "\u001b[1m37/37\u001b[0m \u001b[32m━━━━━━━━━━━━━━━━━━━━\u001b[0m\u001b[37m\u001b[0m \u001b[1m0s\u001b[0m 2ms/step - accuracy: 0.5429 - loss: 0.6905 - val_accuracy: 0.5483 - val_loss: 0.6909\n",
      "Epoch 8/50\n",
      "\u001b[1m37/37\u001b[0m \u001b[32m━━━━━━━━━━━━━━━━━━━━\u001b[0m\u001b[37m\u001b[0m \u001b[1m0s\u001b[0m 2ms/step - accuracy: 0.5582 - loss: 0.6896 - val_accuracy: 0.5310 - val_loss: 0.6886\n",
      "Epoch 9/50\n",
      "\u001b[1m37/37\u001b[0m \u001b[32m━━━━━━━━━━━━━━━━━━━━\u001b[0m\u001b[37m\u001b[0m \u001b[1m0s\u001b[0m 2ms/step - accuracy: 0.5436 - loss: 0.6912 - val_accuracy: 0.4759 - val_loss: 0.7318\n",
      "Epoch 10/50\n",
      "\u001b[1m37/37\u001b[0m \u001b[32m━━━━━━━━━━━━━━━━━━━━\u001b[0m\u001b[37m\u001b[0m \u001b[1m0s\u001b[0m 2ms/step - accuracy: 0.5121 - loss: 0.6965 - val_accuracy: 0.5241 - val_loss: 0.6929\n",
      "Epoch 11/50\n",
      "\u001b[1m37/37\u001b[0m \u001b[32m━━━━━━━━━━━━━━━━━━━━\u001b[0m\u001b[37m\u001b[0m \u001b[1m0s\u001b[0m 2ms/step - accuracy: 0.5330 - loss: 0.6926 - val_accuracy: 0.5276 - val_loss: 0.6863\n",
      "Epoch 12/50\n",
      "\u001b[1m37/37\u001b[0m \u001b[32m━━━━━━━━━━━━━━━━━━━━\u001b[0m\u001b[37m\u001b[0m \u001b[1m0s\u001b[0m 2ms/step - accuracy: 0.5329 - loss: 0.6900 - val_accuracy: 0.5276 - val_loss: 0.6922\n",
      "Epoch 13/50\n",
      "\u001b[1m37/37\u001b[0m \u001b[32m━━━━━━━━━━━━━━━━━━━━\u001b[0m\u001b[37m\u001b[0m \u001b[1m0s\u001b[0m 2ms/step - accuracy: 0.5745 - loss: 0.6860 - val_accuracy: 0.5483 - val_loss: 0.6942\n",
      "Epoch 14/50\n",
      "\u001b[1m37/37\u001b[0m \u001b[32m━━━━━━━━━━━━━━━━━━━━\u001b[0m\u001b[37m\u001b[0m \u001b[1m0s\u001b[0m 2ms/step - accuracy: 0.5180 - loss: 0.6982 - val_accuracy: 0.5241 - val_loss: 0.6847\n",
      "Epoch 15/50\n",
      "\u001b[1m37/37\u001b[0m \u001b[32m━━━━━━━━━━━━━━━━━━━━\u001b[0m\u001b[37m\u001b[0m \u001b[1m0s\u001b[0m 2ms/step - accuracy: 0.5314 - loss: 0.6930 - val_accuracy: 0.4897 - val_loss: 0.6965\n",
      "Epoch 16/50\n",
      "\u001b[1m37/37\u001b[0m \u001b[32m━━━━━━━━━━━━━━━━━━━━\u001b[0m\u001b[37m\u001b[0m \u001b[1m0s\u001b[0m 2ms/step - accuracy: 0.5365 - loss: 0.6884 - val_accuracy: 0.5276 - val_loss: 0.6850\n",
      "Epoch 17/50\n",
      "\u001b[1m37/37\u001b[0m \u001b[32m━━━━━━━━━━━━━━━━━━━━\u001b[0m\u001b[37m\u001b[0m \u001b[1m0s\u001b[0m 2ms/step - accuracy: 0.5485 - loss: 0.6911 - val_accuracy: 0.5241 - val_loss: 0.6800\n",
      "Epoch 18/50\n",
      "\u001b[1m37/37\u001b[0m \u001b[32m━━━━━━━━━━━━━━━━━━━━\u001b[0m\u001b[37m\u001b[0m \u001b[1m0s\u001b[0m 2ms/step - accuracy: 0.5433 - loss: 0.6903 - val_accuracy: 0.5241 - val_loss: 0.6861\n",
      "Epoch 19/50\n",
      "\u001b[1m37/37\u001b[0m \u001b[32m━━━━━━━━━━━━━━━━━━━━\u001b[0m\u001b[37m\u001b[0m \u001b[1m0s\u001b[0m 2ms/step - accuracy: 0.5602 - loss: 0.6831 - val_accuracy: 0.5414 - val_loss: 0.6776\n",
      "Epoch 20/50\n",
      "\u001b[1m37/37\u001b[0m \u001b[32m━━━━━━━━━━━━━━━━━━━━\u001b[0m\u001b[37m\u001b[0m \u001b[1m0s\u001b[0m 2ms/step - accuracy: 0.5322 - loss: 0.6895 - val_accuracy: 0.5241 - val_loss: 0.6812\n",
      "Epoch 21/50\n",
      "\u001b[1m37/37\u001b[0m \u001b[32m━━━━━━━━━━━━━━━━━━━━\u001b[0m\u001b[37m\u001b[0m \u001b[1m0s\u001b[0m 2ms/step - accuracy: 0.5570 - loss: 0.6867 - val_accuracy: 0.5172 - val_loss: 0.6955\n",
      "Epoch 22/50\n",
      "\u001b[1m37/37\u001b[0m \u001b[32m━━━━━━━━━━━━━━━━━━━━\u001b[0m\u001b[37m\u001b[0m \u001b[1m0s\u001b[0m 2ms/step - accuracy: 0.5145 - loss: 0.6906 - val_accuracy: 0.5241 - val_loss: 0.6833\n",
      "Epoch 23/50\n",
      "\u001b[1m37/37\u001b[0m \u001b[32m━━━━━━━━━━━━━━━━━━━━\u001b[0m\u001b[37m\u001b[0m \u001b[1m0s\u001b[0m 2ms/step - accuracy: 0.5582 - loss: 0.6878 - val_accuracy: 0.4828 - val_loss: 0.6980\n",
      "Epoch 24/50\n",
      "\u001b[1m37/37\u001b[0m \u001b[32m━━━━━━━━━━━━━━━━━━━━\u001b[0m\u001b[37m\u001b[0m \u001b[1m0s\u001b[0m 2ms/step - accuracy: 0.5001 - loss: 0.6923 - val_accuracy: 0.5207 - val_loss: 0.6838\n",
      "Epoch 25/50\n",
      "\u001b[1m37/37\u001b[0m \u001b[32m━━━━━━━━━━━━━━━━━━━━\u001b[0m\u001b[37m\u001b[0m \u001b[1m0s\u001b[0m 2ms/step - accuracy: 0.5077 - loss: 0.6930 - val_accuracy: 0.5345 - val_loss: 0.6825\n",
      "Epoch 26/50\n",
      "\u001b[1m37/37\u001b[0m \u001b[32m━━━━━━━━━━━━━━━━━━━━\u001b[0m\u001b[37m\u001b[0m \u001b[1m0s\u001b[0m 2ms/step - accuracy: 0.5632 - loss: 0.6855 - val_accuracy: 0.5207 - val_loss: 0.6854\n",
      "Epoch 27/50\n",
      "\u001b[1m37/37\u001b[0m \u001b[32m━━━━━━━━━━━━━━━━━━━━\u001b[0m\u001b[37m\u001b[0m \u001b[1m0s\u001b[0m 2ms/step - accuracy: 0.5386 - loss: 0.6928 - val_accuracy: 0.5241 - val_loss: 0.6875\n",
      "Epoch 28/50\n",
      "\u001b[1m37/37\u001b[0m \u001b[32m━━━━━━━━━━━━━━━━━━━━\u001b[0m\u001b[37m\u001b[0m \u001b[1m0s\u001b[0m 2ms/step - accuracy: 0.5361 - loss: 0.6863 - val_accuracy: 0.5207 - val_loss: 0.6955\n",
      "Epoch 29/50\n",
      "\u001b[1m37/37\u001b[0m \u001b[32m━━━━━━━━━━━━━━━━━━━━\u001b[0m\u001b[37m\u001b[0m \u001b[1m0s\u001b[0m 2ms/step - accuracy: 0.5283 - loss: 0.6911 - val_accuracy: 0.5241 - val_loss: 0.6787\n",
      "Epoch 30/50\n",
      "\u001b[1m37/37\u001b[0m \u001b[32m━━━━━━━━━━━━━━━━━━━━\u001b[0m\u001b[37m\u001b[0m \u001b[1m0s\u001b[0m 2ms/step - accuracy: 0.5197 - loss: 0.6937 - val_accuracy: 0.5241 - val_loss: 0.6848\n",
      "Epoch 31/50\n",
      "\u001b[1m37/37\u001b[0m \u001b[32m━━━━━━━━━━━━━━━━━━━━\u001b[0m\u001b[37m\u001b[0m \u001b[1m0s\u001b[0m 2ms/step - accuracy: 0.5218 - loss: 0.6934 - val_accuracy: 0.5138 - val_loss: 0.6946\n",
      "Epoch 32/50\n",
      "\u001b[1m37/37\u001b[0m \u001b[32m━━━━━━━━━━━━━━━━━━━━\u001b[0m\u001b[37m\u001b[0m \u001b[1m0s\u001b[0m 2ms/step - accuracy: 0.5457 - loss: 0.6903 - val_accuracy: 0.5241 - val_loss: 0.6827\n",
      "Epoch 33/50\n",
      "\u001b[1m37/37\u001b[0m \u001b[32m━━━━━━━━━━━━━━━━━━━━\u001b[0m\u001b[37m\u001b[0m \u001b[1m0s\u001b[0m 2ms/step - accuracy: 0.5207 - loss: 0.6924 - val_accuracy: 0.5276 - val_loss: 0.6878\n",
      "Epoch 34/50\n",
      "\u001b[1m37/37\u001b[0m \u001b[32m━━━━━━━━━━━━━━━━━━━━\u001b[0m\u001b[37m\u001b[0m \u001b[1m0s\u001b[0m 2ms/step - accuracy: 0.5360 - loss: 0.6914 - val_accuracy: 0.5241 - val_loss: 0.6840\n",
      "Epoch 35/50\n",
      "\u001b[1m37/37\u001b[0m \u001b[32m━━━━━━━━━━━━━━━━━━━━\u001b[0m\u001b[37m\u001b[0m \u001b[1m0s\u001b[0m 2ms/step - accuracy: 0.5409 - loss: 0.6877 - val_accuracy: 0.5276 - val_loss: 0.6873\n",
      "Epoch 36/50\n",
      "\u001b[1m37/37\u001b[0m \u001b[32m━━━━━━━━━━━━━━━━━━━━\u001b[0m\u001b[37m\u001b[0m \u001b[1m0s\u001b[0m 2ms/step - accuracy: 0.5328 - loss: 0.6911 - val_accuracy: 0.5345 - val_loss: 0.6845\n",
      "Epoch 37/50\n",
      "\u001b[1m37/37\u001b[0m \u001b[32m━━━━━━━━━━━━━━━━━━━━\u001b[0m\u001b[37m\u001b[0m \u001b[1m0s\u001b[0m 2ms/step - accuracy: 0.5671 - loss: 0.6837 - val_accuracy: 0.5241 - val_loss: 0.6799\n",
      "Epoch 38/50\n",
      "\u001b[1m37/37\u001b[0m \u001b[32m━━━━━━━━━━━━━━━━━━━━\u001b[0m\u001b[37m\u001b[0m \u001b[1m0s\u001b[0m 2ms/step - accuracy: 0.5446 - loss: 0.6875 - val_accuracy: 0.5379 - val_loss: 0.6885\n",
      "Epoch 39/50\n",
      "\u001b[1m37/37\u001b[0m \u001b[32m━━━━━━━━━━━━━━━━━━━━\u001b[0m\u001b[37m\u001b[0m \u001b[1m0s\u001b[0m 2ms/step - accuracy: 0.5497 - loss: 0.6852 - val_accuracy: 0.4793 - val_loss: 0.7059\n",
      "Epoch 40/50\n",
      "\u001b[1m37/37\u001b[0m \u001b[32m━━━━━━━━━━━━━━━━━━━━\u001b[0m\u001b[37m\u001b[0m \u001b[1m0s\u001b[0m 2ms/step - accuracy: 0.5277 - loss: 0.6915 - val_accuracy: 0.5448 - val_loss: 0.6856\n",
      "Epoch 41/50\n",
      "\u001b[1m37/37\u001b[0m \u001b[32m━━━━━━━━━━━━━━━━━━━━\u001b[0m\u001b[37m\u001b[0m \u001b[1m0s\u001b[0m 2ms/step - accuracy: 0.5377 - loss: 0.6897 - val_accuracy: 0.5276 - val_loss: 0.6867\n",
      "Epoch 42/50\n",
      "\u001b[1m37/37\u001b[0m \u001b[32m━━━━━━━━━━━━━━━━━━━━\u001b[0m\u001b[37m\u001b[0m \u001b[1m0s\u001b[0m 2ms/step - accuracy: 0.5399 - loss: 0.6883 - val_accuracy: 0.5241 - val_loss: 0.6784\n",
      "Epoch 43/50\n",
      "\u001b[1m37/37\u001b[0m \u001b[32m━━━━━━━━━━━━━━━━━━━━\u001b[0m\u001b[37m\u001b[0m \u001b[1m0s\u001b[0m 2ms/step - accuracy: 0.5366 - loss: 0.6899 - val_accuracy: 0.5241 - val_loss: 0.6924\n",
      "Epoch 44/50\n",
      "\u001b[1m37/37\u001b[0m \u001b[32m━━━━━━━━━━━━━━━━━━━━\u001b[0m\u001b[37m\u001b[0m \u001b[1m0s\u001b[0m 2ms/step - accuracy: 0.5479 - loss: 0.6891 - val_accuracy: 0.5345 - val_loss: 0.6881\n",
      "Epoch 45/50\n",
      "\u001b[1m37/37\u001b[0m \u001b[32m━━━━━━━━━━━━━━━━━━━━\u001b[0m\u001b[37m\u001b[0m \u001b[1m0s\u001b[0m 2ms/step - accuracy: 0.5269 - loss: 0.6885 - val_accuracy: 0.5448 - val_loss: 0.6866\n",
      "Epoch 46/50\n",
      "\u001b[1m37/37\u001b[0m \u001b[32m━━━━━━━━━━━━━━━━━━━━\u001b[0m\u001b[37m\u001b[0m \u001b[1m0s\u001b[0m 2ms/step - accuracy: 0.5436 - loss: 0.6853 - val_accuracy: 0.5414 - val_loss: 0.6886\n",
      "Epoch 47/50\n",
      "\u001b[1m37/37\u001b[0m \u001b[32m━━━━━━━━━━━━━━━━━━━━\u001b[0m\u001b[37m\u001b[0m \u001b[1m0s\u001b[0m 2ms/step - accuracy: 0.5169 - loss: 0.6944 - val_accuracy: 0.5276 - val_loss: 0.6815\n",
      "Epoch 48/50\n",
      "\u001b[1m37/37\u001b[0m \u001b[32m━━━━━━━━━━━━━━━━━━━━\u001b[0m\u001b[37m\u001b[0m \u001b[1m0s\u001b[0m 2ms/step - accuracy: 0.5100 - loss: 0.6937 - val_accuracy: 0.4759 - val_loss: 0.7120\n",
      "Epoch 49/50\n",
      "\u001b[1m37/37\u001b[0m \u001b[32m━━━━━━━━━━━━━━━━━━━━\u001b[0m\u001b[37m\u001b[0m \u001b[1m0s\u001b[0m 2ms/step - accuracy: 0.5288 - loss: 0.6971 - val_accuracy: 0.5310 - val_loss: 0.6891\n",
      "Epoch 50/50\n",
      "\u001b[1m37/37\u001b[0m \u001b[32m━━━━━━━━━━━━━━━━━━━━\u001b[0m\u001b[37m\u001b[0m \u001b[1m0s\u001b[0m 2ms/step - accuracy: 0.5329 - loss: 0.6895 - val_accuracy: 0.5414 - val_loss: 0.6812\n",
      "\u001b[1m12/12\u001b[0m \u001b[32m━━━━━━━━━━━━━━━━━━━━\u001b[0m\u001b[37m\u001b[0m \u001b[1m0s\u001b[0m 635us/step - accuracy: 0.5424 - loss: 0.6940\n",
      "Test loss: 0.6925075054168701\n",
      "Test accuracy: 0.549723744392395\n"
     ]
    }
   ],
   "source": [
    "from tensorflow.keras.layers import BatchNormalization\n",
    "\n",
    "model = Sequential([\n",
    "    # Input layer\n",
    "    Input(shape=(X_train.shape[1],)),\n",
    "\n",
    "    # Hidden layers\n",
    "    Dense(128, activation='relu'),\n",
    "    BatchNormalization(),\n",
    "    Dropout(0.3),\n",
    "    \n",
    "    Dense(64, activation='relu'),\n",
    "    BatchNormalization(),\n",
    "    Dropout(0.3),\n",
    "    \n",
    "    Dense(32, activation='relu'),\n",
    "    BatchNormalization(),\n",
    "    Dropout(0.3),\n",
    "\n",
    "    # Output layer\n",
    "    Dense(1, activation='sigmoid')\n",
    "])\n",
    "\n",
    "# Compile the model\n",
    "model.compile(optimizer=Adam(learning_rate=0.02),  # Adjust learning rate\n",
    "              loss='binary_crossentropy',\n",
    "              metrics=['accuracy'])\n",
    "\n",
    "# Train the model\n",
    "history = model.fit(X_train, y_train,\n",
    "                    epochs=50,\n",
    "                    batch_size=32,\n",
    "                    validation_split=0.2,\n",
    "                    )\n",
    "\n",
    "# Evaluate the model\n",
    "loss, accuracy = model.evaluate(X_test, y_test)\n",
    "print(f'Test loss: {loss}')\n",
    "print(f'Test accuracy: {accuracy}')\n"
   ]
  },
  {
   "cell_type": "markdown",
   "metadata": {},
   "source": [
    "Added Batch Normalization to generalize better, also allowing for the use of higher learning rates\n",
    "\n",
    "Getting accuracy of 55%!!\n",
    "\n",
    "Also we know that the model is not to overfit since, the val_accuracy and accuracy are similar\n",
    "\n",
    "A good winrate in league of legends is above 50% so I am happy with this result, especially since league games last about 10x longer than the data we are looking at"
   ]
  },
  {
   "cell_type": "code",
   "execution_count": 303,
   "metadata": {},
   "outputs": [
    {
     "name": "stdout",
     "output_type": "stream",
     "text": [
      "\u001b[1m12/12\u001b[0m \u001b[32m━━━━━━━━━━━━━━━━━━━━\u001b[0m\u001b[37m\u001b[0m \u001b[1m0s\u001b[0m 6ms/step\n",
      "Classification Report:\n",
      "              precision    recall  f1-score   support\n",
      "\n",
      "    Loss (0)       0.51      0.68      0.58       167\n",
      "     Win (1)       0.62      0.44      0.51       195\n",
      "\n",
      "    accuracy                           0.55       362\n",
      "   macro avg       0.56      0.56      0.55       362\n",
      "weighted avg       0.57      0.55      0.54       362\n",
      "\n"
     ]
    },
    {
     "data": {
      "image/png": "[encoded data removed]",
      "text/plain": [
       "<Figure size 800x600 with 2 Axes>"
      ]
     },
     "metadata": {},
     "output_type": "display_data"
    }
   ],
   "source": [
    "import numpy as np\n",
    "from sklearn.metrics import classification_report, confusion_matrix\n",
    "import seaborn as sns\n",
    "import matplotlib.pyplot as plt\n",
    "\n",
    "# Predict on test data\n",
    "y_pred = model.predict(X_test)  # Predict probabilities\n",
    "y_pred_classes = (y_pred > 0.5).astype(int)  # Convert probabilities to class labels\n",
    "\n",
    "# Generate classification report\n",
    "print(\"Classification Report:\")\n",
    "print(classification_report(y_test, y_pred_classes, target_names=['Loss (0)', 'Win (1)']))\n",
    "\n",
    "# Generate confusion matrix\n",
    "cm = confusion_matrix(y_test, y_pred_classes)\n",
    "\n",
    "# Plot confusion matrix\n",
    "plt.figure(figsize=(8, 6))\n",
    "sns.heatmap(cm, annot=True, fmt='d', cmap='Blues', \n",
    "            xticklabels=['Loss (0)', 'Win (1)'], \n",
    "            yticklabels=['Loss (0)', 'Win (1)'])\n",
    "plt.xlabel('Predicted Labels')\n",
    "plt.ylabel('True Labels')\n",
    "plt.title('Confusion Matrix')\n",
    "plt.show()\n"
   ]
  },
  {
   "cell_type": "code",
   "execution_count": null,
   "metadata": {},
   "outputs": [],
   "source": []
  }
 ],
 "metadata": {
  "kernelspec": {
   "display_name": "Python 3",
   "language": "python",
   "name": "python3"
  },
  "language_info": {
   "codemirror_mode": {
    "name": "ipython",
    "version": 3
   },
   "file_extension": ".py",
   "mimetype": "text/x-python",
   "name": "python",
   "nbconvert_exporter": "python",
   "pygments_lexer": "ipython3",
   "version": "3.12.1"
  }
 },
 "nbformat": 4,
 "nbformat_minor": 2
}
